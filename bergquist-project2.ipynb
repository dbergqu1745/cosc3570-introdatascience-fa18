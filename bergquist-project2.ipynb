{
 "cells": [
  {
   "cell_type": "code",
   "execution_count": 19,
   "metadata": {},
   "outputs": [],
   "source": [
    "import pandas as pd\n",
    "import numpy as np\n",
    "import matplotlib.pyplot as plt\n",
    "import seaborn as sns\n",
    "import statsmodels.api as sm\n",
    "import statsmodels.formula.api as smf\n",
    "from sklearn.model_selection import train_test_split\n",
    "from sklearn.linear_model import LinearRegression\n",
    "from sklearn.metrics import r2_score\n",
    "\n",
    "sns.set()\n",
    "%matplotlib inline\n",
    "\n",
    "#loading batting csv into data frame\n",
    "df = pd.read_csv(\"./Batting.csv\")"
   ]
  },
  {
   "cell_type": "markdown",
   "metadata": {},
   "source": [
    "# Column Header Key\n",
    "\n",
    "Year -- The regular baseball season takes place from late March/early April to late September/early October, so the year column represents the year in which the regular season occured where the statistics were achieved\n",
    "\n",
    "Tms -- The number of teams participating that season\n",
    "\n",
    "#Bat -- Number of Players used in Games\n",
    "\n",
    "R/G -- Runs Scored Per Game\n",
    "\n",
    "G -- Games Played or Pitched\n",
    "\n",
    "PA -- Plate Appearances When available, we use actual plate appearances from play-by-play game accounts. Otherwise estimated using AB + BB + HBP + SF + SH, which excludes catcher interferences.\n",
    "\n",
    "AB -- At Bats\n",
    "\n",
    "R -- Runs Scored/Allowed\n",
    "\n",
    "H -- Hits/Hits Allowed\n",
    "\n",
    "2B -- Doubles Hit/Allowed\n",
    "\n",
    "3B -- Triples Hit/Allowed\n",
    "\n",
    "HR -- Home Runs Hit/Allowed\n",
    "\n",
    "RBI -- Runs Batted In\n",
    "\n",
    "SB -- Stolen Bases\n",
    "\n",
    "CS -- Caught Stealing\n",
    "\n",
    "BB -- Bases on Balls/Walks\n",
    "\n",
    "SO -- Strikeouts\n",
    "\n",
    "BA -- Hits/At Bats For recent years, leaders need 3.1 Plate Appearances per team game played\n",
    "\n",
    "OBP -- On-Base Percentage (H + BB + HBP)/(At Bats + BB + HBP + SF) For recent years, leaders need 3.1 Plate Appearances per team game played\n",
    "\n",
    "SLG -- Slugging Percentage: Total Bases/At Bats or (1B + 22B + 33B + 4*HR)/AB For recent years, leaders need 3.1 Plate Appearances per team game played\n",
    "\n",
    "OPS -- On-Base + Slugging Percentages. For recent years, leaders need 3.1 Plate Appearances per team game played\n",
    "\n",
    "TB -- Total Bases (Singles + 2 x Doubles + 3 x Triples + 4 x Home Runs).\n",
    "\n",
    "GDP -- Double Plays Grounded Into. Only includes standard 6-4-3, 4-3, etc. double plays, First tracked in 1933. For gamelogs only in seasons we have play-by-play, we include triple plays as well. All official seasonal totals do not include GITP's.\n",
    "\n",
    "HBP -- Times Hit by a Pitch.\n",
    "\n",
    "SH -- Sacrifice Hits (Sacrifice Bunts)\n",
    "\n",
    "SF -- Sacrifice Flies, First tracked in 1954.\n",
    "\n",
    "IBB -- Intentional Walks, First tracked in 1955.\n"
   ]
  },
  {
   "cell_type": "code",
   "execution_count": 4,
   "metadata": {},
   "outputs": [
    {
     "data": {
      "text/html": [
       "<div>\n",
       "<style scoped>\n",
       "    .dataframe tbody tr th:only-of-type {\n",
       "        vertical-align: middle;\n",
       "    }\n",
       "\n",
       "    .dataframe tbody tr th {\n",
       "        vertical-align: top;\n",
       "    }\n",
       "\n",
       "    .dataframe thead th {\n",
       "        text-align: right;\n",
       "    }\n",
       "</style>\n",
       "<table border=\"1\" class=\"dataframe\">\n",
       "  <thead>\n",
       "    <tr style=\"text-align: right;\">\n",
       "      <th></th>\n",
       "      <th>Year</th>\n",
       "      <th>Tms</th>\n",
       "      <th>#Bat</th>\n",
       "      <th>BatAge</th>\n",
       "      <th>R/G</th>\n",
       "      <th>G</th>\n",
       "      <th>PA</th>\n",
       "      <th>AB</th>\n",
       "      <th>R</th>\n",
       "      <th>H</th>\n",
       "      <th>...</th>\n",
       "      <th>BA</th>\n",
       "      <th>OBP</th>\n",
       "      <th>SLG</th>\n",
       "      <th>OPS</th>\n",
       "      <th>TB</th>\n",
       "      <th>GDP</th>\n",
       "      <th>HBP</th>\n",
       "      <th>SH</th>\n",
       "      <th>SF</th>\n",
       "      <th>IBB</th>\n",
       "    </tr>\n",
       "  </thead>\n",
       "  <tbody>\n",
       "    <tr>\n",
       "      <th>0</th>\n",
       "      <td>2018</td>\n",
       "      <td>30</td>\n",
       "      <td>1270</td>\n",
       "      <td>28.1</td>\n",
       "      <td>4.45</td>\n",
       "      <td>4862</td>\n",
       "      <td>185139</td>\n",
       "      <td>165432</td>\n",
       "      <td>21630</td>\n",
       "      <td>41019</td>\n",
       "      <td>...</td>\n",
       "      <td>0.248</td>\n",
       "      <td>0.318</td>\n",
       "      <td>0.409</td>\n",
       "      <td>0.728</td>\n",
       "      <td>67733</td>\n",
       "      <td>3457.0</td>\n",
       "      <td>1922</td>\n",
       "      <td>823</td>\n",
       "      <td>1235.0</td>\n",
       "      <td>929.0</td>\n",
       "    </tr>\n",
       "    <tr>\n",
       "      <th>1</th>\n",
       "      <td>2017</td>\n",
       "      <td>30</td>\n",
       "      <td>1229</td>\n",
       "      <td>28.3</td>\n",
       "      <td>4.65</td>\n",
       "      <td>4860</td>\n",
       "      <td>185295</td>\n",
       "      <td>165567</td>\n",
       "      <td>22582</td>\n",
       "      <td>42215</td>\n",
       "      <td>...</td>\n",
       "      <td>0.255</td>\n",
       "      <td>0.324</td>\n",
       "      <td>0.426</td>\n",
       "      <td>0.750</td>\n",
       "      <td>70517</td>\n",
       "      <td>3804.0</td>\n",
       "      <td>1763</td>\n",
       "      <td>925</td>\n",
       "      <td>1168.0</td>\n",
       "      <td>970.0</td>\n",
       "    </tr>\n",
       "    <tr>\n",
       "      <th>2</th>\n",
       "      <td>2016</td>\n",
       "      <td>30</td>\n",
       "      <td>1247</td>\n",
       "      <td>28.4</td>\n",
       "      <td>4.48</td>\n",
       "      <td>4856</td>\n",
       "      <td>184580</td>\n",
       "      <td>165561</td>\n",
       "      <td>21744</td>\n",
       "      <td>42276</td>\n",
       "      <td>...</td>\n",
       "      <td>0.255</td>\n",
       "      <td>0.322</td>\n",
       "      <td>0.417</td>\n",
       "      <td>0.739</td>\n",
       "      <td>69106</td>\n",
       "      <td>3719.0</td>\n",
       "      <td>1651</td>\n",
       "      <td>1025</td>\n",
       "      <td>1214.0</td>\n",
       "      <td>932.0</td>\n",
       "    </tr>\n",
       "    <tr>\n",
       "      <th>3</th>\n",
       "      <td>2015</td>\n",
       "      <td>30</td>\n",
       "      <td>1252</td>\n",
       "      <td>28.4</td>\n",
       "      <td>4.25</td>\n",
       "      <td>4858</td>\n",
       "      <td>183628</td>\n",
       "      <td>165488</td>\n",
       "      <td>20647</td>\n",
       "      <td>42106</td>\n",
       "      <td>...</td>\n",
       "      <td>0.254</td>\n",
       "      <td>0.317</td>\n",
       "      <td>0.405</td>\n",
       "      <td>0.721</td>\n",
       "      <td>66953</td>\n",
       "      <td>3739.0</td>\n",
       "      <td>1602</td>\n",
       "      <td>1200</td>\n",
       "      <td>1232.0</td>\n",
       "      <td>951.0</td>\n",
       "    </tr>\n",
       "    <tr>\n",
       "      <th>4</th>\n",
       "      <td>2014</td>\n",
       "      <td>30</td>\n",
       "      <td>1212</td>\n",
       "      <td>28.5</td>\n",
       "      <td>4.07</td>\n",
       "      <td>4860</td>\n",
       "      <td>183929</td>\n",
       "      <td>165614</td>\n",
       "      <td>19761</td>\n",
       "      <td>41595</td>\n",
       "      <td>...</td>\n",
       "      <td>0.251</td>\n",
       "      <td>0.314</td>\n",
       "      <td>0.386</td>\n",
       "      <td>0.700</td>\n",
       "      <td>63988</td>\n",
       "      <td>3609.0</td>\n",
       "      <td>1652</td>\n",
       "      <td>1343</td>\n",
       "      <td>1277.0</td>\n",
       "      <td>985.0</td>\n",
       "    </tr>\n",
       "  </tbody>\n",
       "</table>\n",
       "<p>5 rows × 28 columns</p>\n",
       "</div>"
      ],
      "text/plain": [
       "   Year  Tms  #Bat  BatAge   R/G     G      PA      AB      R      H  ...    \\\n",
       "0  2018   30  1270    28.1  4.45  4862  185139  165432  21630  41019  ...     \n",
       "1  2017   30  1229    28.3  4.65  4860  185295  165567  22582  42215  ...     \n",
       "2  2016   30  1247    28.4  4.48  4856  184580  165561  21744  42276  ...     \n",
       "3  2015   30  1252    28.4  4.25  4858  183628  165488  20647  42106  ...     \n",
       "4  2014   30  1212    28.5  4.07  4860  183929  165614  19761  41595  ...     \n",
       "\n",
       "      BA    OBP    SLG    OPS     TB     GDP   HBP    SH      SF    IBB  \n",
       "0  0.248  0.318  0.409  0.728  67733  3457.0  1922   823  1235.0  929.0  \n",
       "1  0.255  0.324  0.426  0.750  70517  3804.0  1763   925  1168.0  970.0  \n",
       "2  0.255  0.322  0.417  0.739  69106  3719.0  1651  1025  1214.0  932.0  \n",
       "3  0.254  0.317  0.405  0.721  66953  3739.0  1602  1200  1232.0  951.0  \n",
       "4  0.251  0.314  0.386  0.700  63988  3609.0  1652  1343  1277.0  985.0  \n",
       "\n",
       "[5 rows x 28 columns]"
      ]
     },
     "execution_count": 4,
     "metadata": {},
     "output_type": "execute_result"
    }
   ],
   "source": [
    "#printing out the data set\n",
    "df.head()"
   ]
  },
  {
   "cell_type": "code",
   "execution_count": 5,
   "metadata": {},
   "outputs": [
    {
     "data": {
      "text/plain": [
       "<matplotlib.axes._subplots.AxesSubplot at 0x1c13b696d8>"
      ]
     },
     "execution_count": 5,
     "metadata": {},
     "output_type": "execute_result"
    },
    {
     "data": {
      "image/png": "[encoded data removed]",
      "text/plain": [
       "<Figure size 432x288 with 1 Axes>"
      ]
     },
     "metadata": {},
     "output_type": "display_data"
    }
   ],
   "source": [
    "#represents the total number of players who stepped up to the plate in each season\n",
    "df.plot.scatter(x='Year', y='#Bat')"
   ]
  },
  {
   "cell_type": "code",
   "execution_count": 6,
   "metadata": {},
   "outputs": [
    {
     "data": {
      "text/plain": [
       "<matplotlib.axes._subplots.AxesSubplot at 0x1c1e437f98>"
      ]
     },
     "execution_count": 6,
     "metadata": {},
     "output_type": "execute_result"
    },
    {
     "data": {
      "image/png": "[encoded data removed]",
      "text/plain": [
       "<Figure size 432x288 with 1 Axes>"
      ]
     },
     "metadata": {},
     "output_type": "display_data"
    }
   ],
   "source": [
    "df.plot.scatter(x='Tms', y='HR')"
   ]
  },
  {
   "cell_type": "code",
   "execution_count": 11,
   "metadata": {},
   "outputs": [
    {
     "data": {
      "text/html": [
       "<div>\n",
       "<style scoped>\n",
       "    .dataframe tbody tr th:only-of-type {\n",
       "        vertical-align: middle;\n",
       "    }\n",
       "\n",
       "    .dataframe tbody tr th {\n",
       "        vertical-align: top;\n",
       "    }\n",
       "\n",
       "    .dataframe thead th {\n",
       "        text-align: right;\n",
       "    }\n",
       "</style>\n",
       "<table border=\"1\" class=\"dataframe\">\n",
       "  <thead>\n",
       "    <tr style=\"text-align: right;\">\n",
       "      <th></th>\n",
       "      <th>Year</th>\n",
       "      <th>Tms</th>\n",
       "      <th>#Bat</th>\n",
       "      <th>BatAge</th>\n",
       "      <th>R/G</th>\n",
       "      <th>G</th>\n",
       "      <th>PA</th>\n",
       "      <th>AB</th>\n",
       "      <th>R</th>\n",
       "      <th>H</th>\n",
       "      <th>...</th>\n",
       "      <th>BA</th>\n",
       "      <th>OBP</th>\n",
       "      <th>SLG</th>\n",
       "      <th>OPS</th>\n",
       "      <th>TB</th>\n",
       "      <th>GDP</th>\n",
       "      <th>HBP</th>\n",
       "      <th>SH</th>\n",
       "      <th>SF</th>\n",
       "      <th>IBB</th>\n",
       "    </tr>\n",
       "  </thead>\n",
       "  <tbody>\n",
       "    <tr>\n",
       "      <th>count</th>\n",
       "      <td>119.000000</td>\n",
       "      <td>119.000000</td>\n",
       "      <td>119.000000</td>\n",
       "      <td>119.000000</td>\n",
       "      <td>119.000000</td>\n",
       "      <td>119.000000</td>\n",
       "      <td>119.000000</td>\n",
       "      <td>119.000000</td>\n",
       "      <td>119.000000</td>\n",
       "      <td>119.000000</td>\n",
       "      <td>...</td>\n",
       "      <td>119.000000</td>\n",
       "      <td>119.000000</td>\n",
       "      <td>119.000000</td>\n",
       "      <td>119.000000</td>\n",
       "      <td>119.000000</td>\n",
       "      <td>80.000000</td>\n",
       "      <td>119.000000</td>\n",
       "      <td>119.000000</td>\n",
       "      <td>65.000000</td>\n",
       "      <td>64.000000</td>\n",
       "    </tr>\n",
       "    <tr>\n",
       "      <th>mean</th>\n",
       "      <td>1959.000000</td>\n",
       "      <td>21.176471</td>\n",
       "      <td>708.193277</td>\n",
       "      <td>28.293277</td>\n",
       "      <td>4.396723</td>\n",
       "      <td>3326.168067</td>\n",
       "      <td>127243.731092</td>\n",
       "      <td>113259.663866</td>\n",
       "      <td>14647.016807</td>\n",
       "      <td>29583.747899</td>\n",
       "      <td>...</td>\n",
       "      <td>0.261899</td>\n",
       "      <td>0.328067</td>\n",
       "      <td>0.383067</td>\n",
       "      <td>0.711118</td>\n",
       "      <td>43948.352941</td>\n",
       "      <td>2874.212500</td>\n",
       "      <td>823.117647</td>\n",
       "      <td>1829.142857</td>\n",
       "      <td>1119.969231</td>\n",
       "      <td>1174.500000</td>\n",
       "    </tr>\n",
       "    <tr>\n",
       "      <th>std</th>\n",
       "      <td>34.496377</td>\n",
       "      <td>5.870996</td>\n",
       "      <td>255.549931</td>\n",
       "      <td>0.583637</td>\n",
       "      <td>0.436246</td>\n",
       "      <td>1004.735620</td>\n",
       "      <td>38644.287942</td>\n",
       "      <td>34454.721952</td>\n",
       "      <td>4804.292092</td>\n",
       "      <td>8877.838598</td>\n",
       "      <td>...</td>\n",
       "      <td>0.011912</td>\n",
       "      <td>0.012366</td>\n",
       "      <td>0.030413</td>\n",
       "      <td>0.039663</td>\n",
       "      <td>15610.955824</td>\n",
       "      <td>732.307532</td>\n",
       "      <td>458.002649</td>\n",
       "      <td>672.269698</td>\n",
       "      <td>257.790065</td>\n",
       "      <td>226.932407</td>\n",
       "    </tr>\n",
       "    <tr>\n",
       "      <th>min</th>\n",
       "      <td>1900.000000</td>\n",
       "      <td>8.000000</td>\n",
       "      <td>188.000000</td>\n",
       "      <td>26.800000</td>\n",
       "      <td>3.380000</td>\n",
       "      <td>1138.000000</td>\n",
       "      <td>43485.000000</td>\n",
       "      <td>39132.000000</td>\n",
       "      <td>5932.000000</td>\n",
       "      <td>10925.000000</td>\n",
       "      <td>...</td>\n",
       "      <td>0.237000</td>\n",
       "      <td>0.297000</td>\n",
       "      <td>0.305000</td>\n",
       "      <td>0.602000</td>\n",
       "      <td>14333.000000</td>\n",
       "      <td>1710.000000</td>\n",
       "      <td>312.000000</td>\n",
       "      <td>806.000000</td>\n",
       "      <td>616.000000</td>\n",
       "      <td>679.000000</td>\n",
       "    </tr>\n",
       "    <tr>\n",
       "      <th>25%</th>\n",
       "      <td>1929.500000</td>\n",
       "      <td>16.000000</td>\n",
       "      <td>512.000000</td>\n",
       "      <td>28.000000</td>\n",
       "      <td>4.110000</td>\n",
       "      <td>2471.000000</td>\n",
       "      <td>95211.000000</td>\n",
       "      <td>84395.500000</td>\n",
       "      <td>11049.500000</td>\n",
       "      <td>22021.000000</td>\n",
       "      <td>...</td>\n",
       "      <td>0.254000</td>\n",
       "      <td>0.320500</td>\n",
       "      <td>0.367500</td>\n",
       "      <td>0.688500</td>\n",
       "      <td>32477.000000</td>\n",
       "      <td>2142.500000</td>\n",
       "      <td>483.000000</td>\n",
       "      <td>1433.500000</td>\n",
       "      <td>883.000000</td>\n",
       "      <td>1013.250000</td>\n",
       "    </tr>\n",
       "    <tr>\n",
       "      <th>50%</th>\n",
       "      <td>1959.000000</td>\n",
       "      <td>18.000000</td>\n",
       "      <td>633.000000</td>\n",
       "      <td>28.400000</td>\n",
       "      <td>4.410000</td>\n",
       "      <td>2788.000000</td>\n",
       "      <td>105892.000000</td>\n",
       "      <td>94467.000000</td>\n",
       "      <td>12748.000000</td>\n",
       "      <td>25066.000000</td>\n",
       "      <td>...</td>\n",
       "      <td>0.260000</td>\n",
       "      <td>0.327000</td>\n",
       "      <td>0.389000</td>\n",
       "      <td>0.715000</td>\n",
       "      <td>36958.000000</td>\n",
       "      <td>3076.500000</td>\n",
       "      <td>717.000000</td>\n",
       "      <td>1624.000000</td>\n",
       "      <td>1221.000000</td>\n",
       "      <td>1229.500000</td>\n",
       "    </tr>\n",
       "    <tr>\n",
       "      <th>75%</th>\n",
       "      <td>1988.500000</td>\n",
       "      <td>26.000000</td>\n",
       "      <td>812.500000</td>\n",
       "      <td>28.600000</td>\n",
       "      <td>4.740000</td>\n",
       "      <td>4210.000000</td>\n",
       "      <td>160680.500000</td>\n",
       "      <td>143322.000000</td>\n",
       "      <td>18193.000000</td>\n",
       "      <td>37412.000000</td>\n",
       "      <td>...</td>\n",
       "      <td>0.267000</td>\n",
       "      <td>0.336500</td>\n",
       "      <td>0.401500</td>\n",
       "      <td>0.739000</td>\n",
       "      <td>55984.500000</td>\n",
       "      <td>3544.500000</td>\n",
       "      <td>893.500000</td>\n",
       "      <td>1941.000000</td>\n",
       "      <td>1301.000000</td>\n",
       "      <td>1354.000000</td>\n",
       "    </tr>\n",
       "    <tr>\n",
       "      <th>max</th>\n",
       "      <td>2018.000000</td>\n",
       "      <td>30.000000</td>\n",
       "      <td>1270.000000</td>\n",
       "      <td>29.700000</td>\n",
       "      <td>5.550000</td>\n",
       "      <td>4864.000000</td>\n",
       "      <td>190261.000000</td>\n",
       "      <td>167783.000000</td>\n",
       "      <td>24971.000000</td>\n",
       "      <td>45327.000000</td>\n",
       "      <td>...</td>\n",
       "      <td>0.296000</td>\n",
       "      <td>0.356000</td>\n",
       "      <td>0.437000</td>\n",
       "      <td>0.790000</td>\n",
       "      <td>73130.000000</td>\n",
       "      <td>3983.000000</td>\n",
       "      <td>1922.000000</td>\n",
       "      <td>4441.000000</td>\n",
       "      <td>1514.000000</td>\n",
       "      <td>1477.000000</td>\n",
       "    </tr>\n",
       "  </tbody>\n",
       "</table>\n",
       "<p>8 rows × 28 columns</p>\n",
       "</div>"
      ],
      "text/plain": [
       "              Year         Tms         #Bat      BatAge         R/G  \\\n",
       "count   119.000000  119.000000   119.000000  119.000000  119.000000   \n",
       "mean   1959.000000   21.176471   708.193277   28.293277    4.396723   \n",
       "std      34.496377    5.870996   255.549931    0.583637    0.436246   \n",
       "min    1900.000000    8.000000   188.000000   26.800000    3.380000   \n",
       "25%    1929.500000   16.000000   512.000000   28.000000    4.110000   \n",
       "50%    1959.000000   18.000000   633.000000   28.400000    4.410000   \n",
       "75%    1988.500000   26.000000   812.500000   28.600000    4.740000   \n",
       "max    2018.000000   30.000000  1270.000000   29.700000    5.550000   \n",
       "\n",
       "                 G             PA             AB             R             H  \\\n",
       "count   119.000000     119.000000     119.000000    119.000000    119.000000   \n",
       "mean   3326.168067  127243.731092  113259.663866  14647.016807  29583.747899   \n",
       "std    1004.735620   38644.287942   34454.721952   4804.292092   8877.838598   \n",
       "min    1138.000000   43485.000000   39132.000000   5932.000000  10925.000000   \n",
       "25%    2471.000000   95211.000000   84395.500000  11049.500000  22021.000000   \n",
       "50%    2788.000000  105892.000000   94467.000000  12748.000000  25066.000000   \n",
       "75%    4210.000000  160680.500000  143322.000000  18193.000000  37412.000000   \n",
       "max    4864.000000  190261.000000  167783.000000  24971.000000  45327.000000   \n",
       "\n",
       "          ...               BA         OBP         SLG         OPS  \\\n",
       "count     ...       119.000000  119.000000  119.000000  119.000000   \n",
       "mean      ...         0.261899    0.328067    0.383067    0.711118   \n",
       "std       ...         0.011912    0.012366    0.030413    0.039663   \n",
       "min       ...         0.237000    0.297000    0.305000    0.602000   \n",
       "25%       ...         0.254000    0.320500    0.367500    0.688500   \n",
       "50%       ...         0.260000    0.327000    0.389000    0.715000   \n",
       "75%       ...         0.267000    0.336500    0.401500    0.739000   \n",
       "max       ...         0.296000    0.356000    0.437000    0.790000   \n",
       "\n",
       "                 TB          GDP          HBP           SH           SF  \\\n",
       "count    119.000000    80.000000   119.000000   119.000000    65.000000   \n",
       "mean   43948.352941  2874.212500   823.117647  1829.142857  1119.969231   \n",
       "std    15610.955824   732.307532   458.002649   672.269698   257.790065   \n",
       "min    14333.000000  1710.000000   312.000000   806.000000   616.000000   \n",
       "25%    32477.000000  2142.500000   483.000000  1433.500000   883.000000   \n",
       "50%    36958.000000  3076.500000   717.000000  1624.000000  1221.000000   \n",
       "75%    55984.500000  3544.500000   893.500000  1941.000000  1301.000000   \n",
       "max    73130.000000  3983.000000  1922.000000  4441.000000  1514.000000   \n",
       "\n",
       "               IBB  \n",
       "count    64.000000  \n",
       "mean   1174.500000  \n",
       "std     226.932407  \n",
       "min     679.000000  \n",
       "25%    1013.250000  \n",
       "50%    1229.500000  \n",
       "75%    1354.000000  \n",
       "max    1477.000000  \n",
       "\n",
       "[8 rows x 28 columns]"
      ]
     },
     "execution_count": 11,
     "metadata": {},
     "output_type": "execute_result"
    }
   ],
   "source": [
    "df.describe()"
   ]
  },
  {
   "cell_type": "code",
   "execution_count": 12,
   "metadata": {},
   "outputs": [
    {
     "data": {
      "text/plain": [
       "<matplotlib.axes._subplots.AxesSubplot at 0x1c1ea00470>"
      ]
     },
     "execution_count": 12,
     "metadata": {},
     "output_type": "execute_result"
    },
    {
     "data": {
      "image/png": "[encoded data removed]",
      "text/plain": [
       "<Figure size 432x288 with 1 Axes>"
      ]
     },
     "metadata": {},
     "output_type": "display_data"
    }
   ],
   "source": [
    "df.plot.scatter(x='Year',y='SLG')"
   ]
  },
  {
   "cell_type": "markdown",
   "metadata": {},
   "source": [
    "The average Slugging percentage increased as the league expanded"
   ]
  },
  {
   "cell_type": "code",
   "execution_count": 42,
   "metadata": {},
   "outputs": [
    {
     "data": {
      "text/plain": [
       "Text(0,1,'Average Slugging Percentage and Number of Teams')"
      ]
     },
     "execution_count": 42,
     "metadata": {},
     "output_type": "execute_result"
    },
    {
     "data": {
      "image/png": "[encoded data removed]",
      "text/plain": [
       "<Figure size 432x288 with 1 Axes>"
      ]
     },
     "metadata": {},
     "output_type": "display_data"
    }
   ],
   "source": [
    "sns.violinplot(x='Tms', y='SLG', data=df)\n",
    "plt.title(\"Average Slugging Percentage and Number of Teams\", loc=\"left\")"
   ]
  },
  {
   "cell_type": "code",
   "execution_count": 17,
   "metadata": {},
   "outputs": [
    {
     "data": {
      "text/plain": [
       "Text(0,1,'Average Home Runs and Number of Teams')"
      ]
     },
     "execution_count": 17,
     "metadata": {},
     "output_type": "execute_result"
    },
    {
     "data": {
      "image/png": "[encoded data removed]",
      "text/plain": [
       "<Figure size 432x288 with 1 Axes>"
      ]
     },
     "metadata": {},
     "output_type": "display_data"
    }
   ],
   "source": [
    "sns.violinplot(x='Tms', y='HR', data=df)\n",
    "plt.title(\"Average Home Runs and Number of Teams\", loc=\"left\")"
   ]
  },
  {
   "cell_type": "code",
   "execution_count": 18,
   "metadata": {},
   "outputs": [
    {
     "data": {
      "text/plain": [
       "Text(0,1,'Batting average and Number of Teams')"
      ]
     },
     "execution_count": 18,
     "metadata": {},
     "output_type": "execute_result"
    },
    {
     "data": {
      "image/png": "[encoded data removed]",
      "text/plain": [
       "<Figure size 432x288 with 1 Axes>"
      ]
     },
     "metadata": {},
     "output_type": "display_data"
    }
   ],
   "source": [
    "sns.violinplot(x='Tms', y='BA', data=df)\n",
    "plt.title(\"Batting average and Number of Teams\", loc=\"left\")"
   ]
  },
  {
   "cell_type": "code",
   "execution_count": 44,
   "metadata": {},
   "outputs": [
    {
     "data": {
      "text/plain": [
       "'SLG ~ Tms'"
      ]
     },
     "execution_count": 44,
     "metadata": {},
     "output_type": "execute_result"
    }
   ],
   "source": [
    "df2 = df.copy()\n",
    "model = 'SLG ~ %s'%(\" + \".join(df2.columns.values[1:2]))\n",
    "model"
   ]
  },
  {
   "cell_type": "code",
   "execution_count": 45,
   "metadata": {},
   "outputs": [
    {
     "data": {
      "text/html": [
       "<table class=\"simpletable\">\n",
       "<caption>OLS Regression Results</caption>\n",
       "<tr>\n",
       "  <th>Dep. Variable:</th>           <td>SLG</td>       <th>  R-squared:         </th> <td>   0.256</td>\n",
       "</tr>\n",
       "<tr>\n",
       "  <th>Model:</th>                   <td>OLS</td>       <th>  Adj. R-squared:    </th> <td>   0.250</td>\n",
       "</tr>\n",
       "<tr>\n",
       "  <th>Method:</th>             <td>Least Squares</td>  <th>  F-statistic:       </th> <td>   40.24</td>\n",
       "</tr>\n",
       "<tr>\n",
       "  <th>Date:</th>             <td>Sat, 15 Dec 2018</td> <th>  Prob (F-statistic):</th> <td>4.39e-09</td>\n",
       "</tr>\n",
       "<tr>\n",
       "  <th>Time:</th>                 <td>22:27:22</td>     <th>  Log-Likelihood:    </th> <td>  264.89</td>\n",
       "</tr>\n",
       "<tr>\n",
       "  <th>No. Observations:</th>      <td>   119</td>      <th>  AIC:               </th> <td>  -525.8</td>\n",
       "</tr>\n",
       "<tr>\n",
       "  <th>Df Residuals:</th>          <td>   117</td>      <th>  BIC:               </th> <td>  -520.2</td>\n",
       "</tr>\n",
       "<tr>\n",
       "  <th>Df Model:</th>              <td>     1</td>      <th>                     </th>     <td> </td>   \n",
       "</tr>\n",
       "<tr>\n",
       "  <th>Covariance Type:</th>      <td>nonrobust</td>    <th>                     </th>     <td> </td>   \n",
       "</tr>\n",
       "</table>\n",
       "<table class=\"simpletable\">\n",
       "<tr>\n",
       "      <td></td>         <th>coef</th>     <th>std err</th>      <th>t</th>      <th>P>|t|</th>  <th>[0.025</th>    <th>0.975]</th>  \n",
       "</tr>\n",
       "<tr>\n",
       "  <th>Intercept</th> <td>    0.3276</td> <td>    0.009</td> <td>   36.094</td> <td> 0.000</td> <td>    0.310</td> <td>    0.346</td>\n",
       "</tr>\n",
       "<tr>\n",
       "  <th>Tms</th>       <td>    0.0026</td> <td>    0.000</td> <td>    6.344</td> <td> 0.000</td> <td>    0.002</td> <td>    0.003</td>\n",
       "</tr>\n",
       "</table>\n",
       "<table class=\"simpletable\">\n",
       "<tr>\n",
       "  <th>Omnibus:</th>       <td> 4.781</td> <th>  Durbin-Watson:     </th> <td>   0.317</td>\n",
       "</tr>\n",
       "<tr>\n",
       "  <th>Prob(Omnibus):</th> <td> 0.092</td> <th>  Jarque-Bera (JB):  </th> <td>   4.855</td>\n",
       "</tr>\n",
       "<tr>\n",
       "  <th>Skew:</th>          <td>-0.472</td> <th>  Prob(JB):          </th> <td>  0.0883</td>\n",
       "</tr>\n",
       "<tr>\n",
       "  <th>Kurtosis:</th>      <td> 2.706</td> <th>  Cond. No.          </th> <td>    82.7</td>\n",
       "</tr>\n",
       "</table><br/><br/>Warnings:<br/>[1] Standard Errors assume that the covariance matrix of the errors is correctly specified."
      ],
      "text/plain": [
       "<class 'statsmodels.iolib.summary.Summary'>\n",
       "\"\"\"\n",
       "                            OLS Regression Results                            \n",
       "==============================================================================\n",
       "Dep. Variable:                    SLG   R-squared:                       0.256\n",
       "Model:                            OLS   Adj. R-squared:                  0.250\n",
       "Method:                 Least Squares   F-statistic:                     40.24\n",
       "Date:                Sat, 15 Dec 2018   Prob (F-statistic):           4.39e-09\n",
       "Time:                        22:27:22   Log-Likelihood:                 264.89\n",
       "No. Observations:                 119   AIC:                            -525.8\n",
       "Df Residuals:                     117   BIC:                            -520.2\n",
       "Df Model:                           1                                         \n",
       "Covariance Type:            nonrobust                                         \n",
       "==============================================================================\n",
       "                 coef    std err          t      P>|t|      [0.025      0.975]\n",
       "------------------------------------------------------------------------------\n",
       "Intercept      0.3276      0.009     36.094      0.000       0.310       0.346\n",
       "Tms            0.0026      0.000      6.344      0.000       0.002       0.003\n",
       "==============================================================================\n",
       "Omnibus:                        4.781   Durbin-Watson:                   0.317\n",
       "Prob(Omnibus):                  0.092   Jarque-Bera (JB):                4.855\n",
       "Skew:                          -0.472   Prob(JB):                       0.0883\n",
       "Kurtosis:                       2.706   Cond. No.                         82.7\n",
       "==============================================================================\n",
       "\n",
       "Warnings:\n",
       "[1] Standard Errors assume that the covariance matrix of the errors is correctly specified.\n",
       "\"\"\""
      ]
     },
     "execution_count": 45,
     "metadata": {},
     "output_type": "execute_result"
    }
   ],
   "source": [
    "linear_regression = smf.ols(model, data = df2).fit()\n",
    "linear_regression.summary()"
   ]
  },
  {
   "cell_type": "code",
   "execution_count": null,
   "metadata": {},
   "outputs": [],
   "source": []
  }
 ],
 "metadata": {
  "kernelspec": {
   "display_name": "Python 3",
   "language": "python",
   "name": "python3"
  },
  "language_info": {
   "codemirror_mode": {
    "name": "ipython",
    "version": 3
   },
   "file_extension": ".py",
   "mimetype": "text/x-python",
   "name": "python",
   "nbconvert_exporter": "python",
   "pygments_lexer": "ipython3",
   "version": "3.6.5"
  }
 },
 "nbformat": 4,
 "nbformat_minor": 2
}
